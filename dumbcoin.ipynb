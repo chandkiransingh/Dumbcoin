{
  "nbformat": 4,
  "nbformat_minor": 0,
  "metadata": {
    "colab": {
      "name": "dumbcoin.ipynb",
      "version": "0.3.2",
      "provenance": []
    },
    "kernelspec": {
      "display_name": "Python 3",
      "language": "python",
      "name": "python3"
    }
  },
  "cells": [
    {
      "metadata": {
        "id": "j_iMtyg8O1gG",
        "colab_type": "code",
        "colab": {}
      },
      "cell_type": "code",
      "source": [
        "# Requires\n",
        "# - pycryptodome (pycrypto for 3.6)\n",
        "# - numpy /scipy / matplotlib\n",
        "# - pandas"
      ],
      "execution_count": 0,
      "outputs": []
    },
    {
      "metadata": {
        "id": "d5YlLTZdO1gK",
        "colab_type": "code",
        "colab": {}
      },
      "cell_type": "code",
      "source": [
        "import hashlib\n",
        "import random\n",
        "import string\n",
        "import json\n",
        "import binascii\n",
        "import numpy as np\n",
        "import pandas as pd\n",
        "import pylab as pl\n",
        "import logging\n",
        "%matplotlib inline"
      ],
      "execution_count": 0,
      "outputs": []
    },
    {
      "metadata": {
        "id": "XmR9IynvO1gO",
        "colab_type": "code",
        "colab": {}
      },
      "cell_type": "code",
      "source": [
        "def sha256(message):\n",
        "    return hashlib.sha256(message.encode('ascii')).hexdigest()"
      ],
      "execution_count": 0,
      "outputs": []
    },
    {
      "metadata": {
        "id": "6i7VpVTfO1gS",
        "colab_type": "code",
        "outputId": "a751acd8-78d6-4974-8896-37aaf3ba2cef",
        "colab": {
          "base_uri": "https://localhost:8080/",
          "height": 51
        }
      },
      "cell_type": "code",
      "source": [
        "message = 'hello bitcoin'\n",
        "for nonce in range(1000):\n",
        "    digest = sha256(message + str(nonce))\n",
        "    if digest.startswith('11'):\n",
        "        print('Found nonce = %d' % nonce)\n",
        "        break\n",
        "print(sha256(message + str(nonce)))"
      ],
      "execution_count": 33,
      "outputs": [
        {
          "output_type": "stream",
          "text": [
            "Found nonce = 32\n",
            "112c38d2fdb6ddaf32f371a390307ccc779cd92443b42c4b5c58fa548f63ed83\n"
          ],
          "name": "stdout"
        }
      ]
    },
    {
      "metadata": {
        "id": "P17jrJEPO1gZ",
        "colab_type": "code",
        "colab": {}
      },
      "cell_type": "code",
      "source": [
        "def dumb_hash(message):\n",
        "    \"\"\"\n",
        "    Returns an hexadecimal hash\n",
        "    \"\"\"\n",
        "    return sha256(message)\n",
        "\n",
        "\n",
        "def mine(message, difficulty=1):\n",
        "    \"\"\"\n",
        "    Given an input string, will return a nonce such that\n",
        "    hash(string + nonce) starts with `difficulty` ones\n",
        "    \n",
        "    Returns: (nonce, niters)\n",
        "        nonce: The found nonce\n",
        "        niters: The number of iterations required to find the nonce\n",
        "    \"\"\"\n",
        "    assert difficulty >= 1, \"Difficulty of 0 is not possible\"\n",
        "    i = 0\n",
        "    prefix = '1' * difficulty\n",
        "    while True:\n",
        "        nonce = str(i)\n",
        "        digest = dumb_hash(message + nonce)\n",
        "        if digest.startswith(prefix):\n",
        "            return nonce, i\n",
        "        i += 1"
      ],
      "execution_count": 0,
      "outputs": []
    },
    {
      "metadata": {
        "id": "T2-HQRwUO1gc",
        "colab_type": "code",
        "outputId": "3c3a2228-5ece-4549-9c74-ef558b1cd973",
        "colab": {
          "base_uri": "https://localhost:8080/",
          "height": 51
        }
      },
      "cell_type": "code",
      "source": [
        "nonce, niters = mine('42', difficulty=1)\n",
        "print('Took %d iterations' % niters)\n",
        "\n",
        "nonce, niters = mine('42', difficulty=3)\n",
        "print('Took %d iterations' % niters)"
      ],
      "execution_count": 35,
      "outputs": [
        {
          "output_type": "stream",
          "text": [
            "Took 23 iterations\n",
            "Took 2272 iterations\n"
          ],
          "name": "stdout"
        }
      ]
    },
    {
      "metadata": {
        "id": "TefXCgzaO1gk",
        "colab_type": "code",
        "colab": {}
      },
      "cell_type": "code",
      "source": [
        "def random_string(length=10):\n",
        "    return ''.join(random.choice(string.ascii_uppercase + string.digits) for _ in range(length))\n",
        "\n",
        "strings = [random_string() for i in range(50)]"
      ],
      "execution_count": 0,
      "outputs": []
    },
    {
      "metadata": {
        "id": "gngfh52TO1gn",
        "colab_type": "code",
        "colab": {}
      },
      "cell_type": "code",
      "source": [
        "levels = range(1, 5)\n",
        "# An array of results with a row for each difficulty and a column for each test string\n",
        "results = pd.DataFrame(index=strings, columns=levels, dtype=np.int)\n",
        "results.fillna(value=0)\n",
        "\n",
        "#results = np.zeros((N_LEVELS, len(strings)), dtype=np.int)\n",
        "for level in levels:\n",
        "    for s in strings:\n",
        "        _, niters = mine(s, difficulty=level)\n",
        "        results[level][s] = niters"
      ],
      "execution_count": 0,
      "outputs": []
    },
    {
      "metadata": {
        "id": "ssRxQZAcO1gp",
        "colab_type": "code",
        "outputId": "b4684e73-e76a-4c6f-d3d8-4c86440c8d32",
        "colab": {
          "base_uri": "https://localhost:8080/",
          "height": 204
        }
      },
      "cell_type": "code",
      "source": [
        "results.iloc[:5]"
      ],
      "execution_count": 38,
      "outputs": [
        {
          "output_type": "execute_result",
          "data": {
            "text/html": [
              "<div>\n",
              "<style scoped>\n",
              "    .dataframe tbody tr th:only-of-type {\n",
              "        vertical-align: middle;\n",
              "    }\n",
              "\n",
              "    .dataframe tbody tr th {\n",
              "        vertical-align: top;\n",
              "    }\n",
              "\n",
              "    .dataframe thead th {\n",
              "        text-align: right;\n",
              "    }\n",
              "</style>\n",
              "<table border=\"1\" class=\"dataframe\">\n",
              "  <thead>\n",
              "    <tr style=\"text-align: right;\">\n",
              "      <th></th>\n",
              "      <th>1</th>\n",
              "      <th>2</th>\n",
              "      <th>3</th>\n",
              "      <th>4</th>\n",
              "    </tr>\n",
              "  </thead>\n",
              "  <tbody>\n",
              "    <tr>\n",
              "      <th>KAV86UG0OM</th>\n",
              "      <td>7</td>\n",
              "      <td>7</td>\n",
              "      <td>7</td>\n",
              "      <td>3149</td>\n",
              "    </tr>\n",
              "    <tr>\n",
              "      <th>2TTT67MNT6</th>\n",
              "      <td>2</td>\n",
              "      <td>118</td>\n",
              "      <td>975</td>\n",
              "      <td>43042</td>\n",
              "    </tr>\n",
              "    <tr>\n",
              "      <th>CDAR5XBMHF</th>\n",
              "      <td>4</td>\n",
              "      <td>188</td>\n",
              "      <td>4837</td>\n",
              "      <td>132689</td>\n",
              "    </tr>\n",
              "    <tr>\n",
              "      <th>9HHQIF5IBI</th>\n",
              "      <td>12</td>\n",
              "      <td>114</td>\n",
              "      <td>9180</td>\n",
              "      <td>17489</td>\n",
              "    </tr>\n",
              "    <tr>\n",
              "      <th>T17L2JNMFE</th>\n",
              "      <td>5</td>\n",
              "      <td>5</td>\n",
              "      <td>2332</td>\n",
              "      <td>270019</td>\n",
              "    </tr>\n",
              "  </tbody>\n",
              "</table>\n",
              "</div>"
            ],
            "text/plain": [
              "             1    2     3       4\n",
              "KAV86UG0OM   7    7     7    3149\n",
              "2TTT67MNT6   2  118   975   43042\n",
              "CDAR5XBMHF   4  188  4837  132689\n",
              "9HHQIF5IBI  12  114  9180   17489\n",
              "T17L2JNMFE   5    5  2332  270019"
            ]
          },
          "metadata": {
            "tags": []
          },
          "execution_count": 38
        }
      ]
    },
    {
      "metadata": {
        "id": "Y7-8nZScO1gu",
        "colab_type": "code",
        "outputId": "96ab750e-f47d-4e04-ad94-0a81edc72172",
        "colab": {
          "base_uri": "https://localhost:8080/",
          "height": 366
        }
      },
      "cell_type": "code",
      "source": [
        "pl.figure(figsize=(10, 5))\n",
        "ax = pl.subplot(111)\n",
        "ax.set_title('Number of iterations to mine a nonce for various difficulty')\n",
        "results.plot.box(showfliers=False, ax=ax)\n",
        "ax.set_xlabel('Difficulty')\n",
        "ax.set_ylabel('Iterations')"
      ],
      "execution_count": 39,
      "outputs": [
        {
          "output_type": "execute_result",
          "data": {
            "text/plain": [
              "Text(0, 0.5, 'Iterations')"
            ]
          },
          "metadata": {
            "tags": []
          },
          "execution_count": 39
        },
        {
          "output_type": "display_data",
          "data": {
            "image/png": "[encoded data removed]",
            "text/plain": [
              "<Figure size 720x360 with 1 Axes>"
            ]
          },
          "metadata": {
            "tags": []
          }
        }
      ]
    },
    {
      "metadata": {
        "id": "6CHUmnvJJ9Zt",
        "colab_type": "code",
        "colab": {
          "base_uri": "https://localhost:8080/",
          "height": 34
        },
        "outputId": "1d885d3a-0e26-4dc9-b398-11aa54f5d547"
      },
      "cell_type": "code",
      "source": [
        "pip install pycrypto"
      ],
      "execution_count": 40,
      "outputs": [
        {
          "output_type": "stream",
          "text": [
            "Requirement already satisfied: pycrypto in /usr/local/lib/python3.6/dist-packages (2.6.1)\n"
          ],
          "name": "stdout"
        }
      ]
    },
    {
      "metadata": {
        "id": "Ax8f_hgNO1g9",
        "colab_type": "code",
        "colab": {}
      },
      "cell_type": "code",
      "source": [
        "class TransactionInput(object):\n",
        "    \"\"\"\n",
        "    An input for a transaction. This points to an output of another transaction\n",
        "    \"\"\"\n",
        "    def __init__(self, transaction, output_index):\n",
        "        self.transaction = transaction\n",
        "        self.output_index = output_index\n",
        "        assert 0 <= self.output_index < len(transaction.outputs)\n",
        "        \n",
        "    def to_dict(self):\n",
        "        d = {\n",
        "            'transaction': self.transaction.hash(),\n",
        "            'output_index': self.output_index\n",
        "        }\n",
        "        return d\n",
        "    \n",
        "    @property\n",
        "    def parent_output(self):\n",
        "        return self.transaction.outputs[self.output_index]\n",
        "    \n",
        "\n",
        "class TransactionOutput(object):\n",
        "    \"\"\"\n",
        "    An output for a transaction. This specifies an amount and a recipient (wallet)\n",
        "    \"\"\"\n",
        "    def __init__(self, recipient_address, amount):\n",
        "        self.recipient = recipient_address\n",
        "        self.amount = amount\n",
        "        \n",
        "    def to_dict(self):\n",
        "        d = {\n",
        "            'recipient_address': self.recipient,\n",
        "            'amount': self.amount\n",
        "        }\n",
        "        return d\n",
        "\n",
        "        \n",
        "def compute_fee(inputs, outputs):\n",
        "    \"\"\"\n",
        "    Compute the transaction fee by computing the difference between total input and total output\n",
        "    \"\"\"\n",
        "    total_in = sum(i.transaction.outputs[i.output_index].amount for i in inputs)\n",
        "    total_out = sum(o.amount for o in outputs)\n",
        "    assert total_out <= total_in, \"Invalid transaction with out(%f) > in(%f)\" % (total_out, total_in)\n",
        "    return total_in - total_out\n",
        "\n",
        "    \n",
        "class Transaction(object):\n",
        "    def __init__(self, wallet, inputs, outputs):\n",
        "        \"\"\"\n",
        "        Create a transaction spending money from the provided wallet\n",
        "        \"\"\"\n",
        "        self.inputs = inputs\n",
        "        self.outputs = outputs\n",
        "        self.fee = compute_fee(inputs, outputs)\n",
        "        self.signature = wallet.sign(json.dumps(self.to_dict(include_signature=False)))\n",
        "        \n",
        "    def to_dict(self, include_signature=True):\n",
        "        d = {\n",
        "            \"inputs\": list(map(TransactionInput.to_dict, self.inputs)),\n",
        "            \"outputs\": list(map(TransactionOutput.to_dict, self.outputs)),\n",
        "            \"fee\": self.fee\n",
        "        }\n",
        "        if include_signature:\n",
        "            d[\"signature\"] = self.signature\n",
        "        return d\n",
        "    \n",
        "    def hash(self):\n",
        "        return dumb_hash(json.dumps(self.to_dict()))\n",
        "    \n",
        "    \n",
        "class GenesisTransaction(Transaction):\n",
        "    \"\"\"\n",
        "    This is the first transaction which is a special transaction\n",
        "    with no input and 25 bitcoins output\n",
        "    \"\"\"\n",
        "    def __init__(self, recipient_address, amount=25):\n",
        "        self.inputs = []\n",
        "        self.outputs = [\n",
        "            TransactionOutput(recipient_address, amount)\n",
        "        ]\n",
        "        self.fee = 0\n",
        "        self.signature = 'genesis'\n",
        "        \n",
        "    def to_dict(self, include_signature=False):\n",
        "        # TODO: Instead, should sign genesis transaction will well-known public key ?\n",
        "        assert not include_signature, \"Cannot include signature of genesis transaction\"\n",
        "        return super().to_dict(include_signature=False)"
      ],
      "execution_count": 0,
      "outputs": []
    },
    {
      "metadata": {
        "id": "Dqdi8U1jO1gz",
        "colab_type": "code",
        "colab": {}
      },
      "cell_type": "code",
      "source": [
        "import Crypto\n",
        "import Crypto.Random\n",
        "from Crypto.Hash import SHA\n",
        "from Crypto.PublicKey import RSA\n",
        "from Crypto.Signature import PKCS1_v1_5\n",
        "\n",
        "\n",
        "class Wallet(object):\n",
        "    \"\"\"\n",
        "    A wallet is a private/public key pair\n",
        "    \"\"\"\n",
        "    def __init__(self):\n",
        "        random_gen = Crypto.Random.new().read\n",
        "        self._private_key = RSA.generate(1024, random_gen)\n",
        "        self._public_key = self._private_key.publickey()\n",
        "        self._signer = PKCS1_v1_5.new(self._private_key)\n",
        "        \n",
        "    @property\n",
        "    def address(self):\n",
        "        \"\"\"We take a shortcut and say address is public key\"\"\"\n",
        "        return binascii.hexlify(self._public_key.exportKey(format='DER')).decode('ascii')\n",
        "    \n",
        "    def sign(self, message):\n",
        "        \"\"\"\n",
        "        Sign a message with this wallet\n",
        "        \"\"\"\n",
        "        h = SHA.new(message.encode('utf8'))\n",
        "        return binascii.hexlify(self._signer.sign(h)).decode('ascii')\n",
        "    \n",
        "    \n",
        "def verify_signature(wallet_address, message, signature):\n",
        "    \"\"\"\n",
        "    Check that the provided `signature` corresponds to `message`\n",
        "    signed by the wallet at `wallet_address`\n",
        "    \"\"\"\n",
        "    pubkey = RSA.importKey(binascii.unhexlify(wallet_address))\n",
        "    verifier = PKCS1_v1_5.new(pubkey)\n",
        "    h = SHA.new(message.encode('utf8'))\n",
        "    return verifier.verify(h, binascii.unhexlify(signature))\n",
        "\n",
        "\n",
        "# Check that the wallet signing functionality works\n",
        "w1 = Wallet()\n",
        "signature = w1.sign('foobar')\n",
        "assert verify_signature(w1.address, 'foobar', signature)\n",
        "assert not verify_signature(w1.address, 'rogue message', signature)"
      ],
      "execution_count": 0,
      "outputs": []
    },
    {
      "metadata": {
        "id": "0-95HLReO1hG",
        "colab_type": "code",
        "colab": {}
      },
      "cell_type": "code",
      "source": [
        "alice = Wallet()\n",
        "bob = Wallet()\n",
        "\n",
        "t1 = GenesisTransaction(alice.address)\n",
        "t2 = Transaction(\n",
        "    alice,\n",
        "    [TransactionInput(t1, 0)],\n",
        "    [TransactionOutput(bob.address, 2.0), TransactionOutput(alice.address, 22.0)]\n",
        ")\n",
        "assert np.abs(t2.fee - 1.0) < 1e-5"
      ],
      "execution_count": 0,
      "outputs": []
    },
    {
      "metadata": {
        "id": "eqegILi2O1hL",
        "colab_type": "code",
        "colab": {}
      },
      "cell_type": "code",
      "source": [
        "alice = Wallet()\n",
        "bob = Wallet()\n",
        "walter = Wallet()\n",
        "\n",
        "# This gives 25 coins to Alice\n",
        "t1 = GenesisTransaction(alice.address)\n",
        "\n",
        "# Of those 25, Alice will spend\n",
        "# Alice -- 5 --> Bob\n",
        "#       -- 15 --> Alice\n",
        "#       -- 5 --> Walter\n",
        "t2 = Transaction(\n",
        "    alice,\n",
        "    [TransactionInput(t1, 0)],\n",
        "    [TransactionOutput(bob.address, 5.0), TransactionOutput(alice.address, 15.0), TransactionOutput(walter.address, 5.0)]\n",
        ")\n",
        "\n",
        "# Walter -- 5 --> Bob\n",
        "t3 = Transaction(\n",
        "    walter,\n",
        "    [TransactionInput(t2, 2)],\n",
        "    [TransactionOutput(bob.address, 5.0)])\n",
        "\n",
        "# Bob -- 8 --> Walter\n",
        "#     -- 1 --> Bob\n",
        "#        1 fee\n",
        "t4 = Transaction(\n",
        "    bob,\n",
        "    [TransactionInput(t2, 0), TransactionInput(t3, 0)],\n",
        "    [TransactionOutput(walter.address, 8.0), TransactionOutput(bob.address, 1.0)]\n",
        ")\n",
        "\n",
        "transactions = [t1, t2, t3, t4]\n"
      ],
      "execution_count": 0,
      "outputs": []
    },
    {
      "metadata": {
        "id": "kgg6BbNaO1hN",
        "colab_type": "code",
        "colab": {
          "base_uri": "https://localhost:8080/",
          "height": 68
        },
        "outputId": "336f9534-7ec3-4a62-a410-7deb739aba68"
      },
      "cell_type": "code",
      "source": [
        "def compute_balance(wallet_address, transactions):\n",
        "    \"\"\"\n",
        "    Given an address and a list of transactions, computes the wallet balance of the address\n",
        "    \"\"\"\n",
        "    balance = 0\n",
        "    for t in transactions:\n",
        "        # Subtract all the money that the address sent out\n",
        "        for txin in t.inputs:\n",
        "            if txin.parent_output.recipient == wallet_address:\n",
        "                balance -= txin.parent_output.amount\n",
        "        # Add all the money received by the address\n",
        "        for txout in t.outputs:\n",
        "            if txout.recipient == wallet_address:\n",
        "                balance += txout.amount\n",
        "    return balance\n",
        "\n",
        "print(\"Alice  has %.02f dumbcoins\" % compute_balance(alice.address, transactions))\n",
        "print(\"Bob    has %.02f dumbcoins\" % compute_balance(bob.address, transactions))\n",
        "print(\"Walter has %.02f dumbcoins\" % compute_balance(walter.address, transactions))"
      ],
      "execution_count": 45,
      "outputs": [
        {
          "output_type": "stream",
          "text": [
            "Alice  has 15.00 dumbcoins\n",
            "Bob    has 1.00 dumbcoins\n",
            "Walter has 8.00 dumbcoins\n"
          ],
          "name": "stdout"
        }
      ]
    },
    {
      "metadata": {
        "id": "nu3_cQCXO1hR",
        "colab_type": "code",
        "colab": {}
      },
      "cell_type": "code",
      "source": [
        "def verify_transaction(transaction):\n",
        "    \"\"\"\n",
        "    Verify that the transaction is valid.\n",
        "    We need to verify two things :\n",
        "    - That all of the inputs of the transaction belong to the same wallet\n",
        "    - That the transaction is signed by the owner of said wallet\n",
        "    \"\"\"\n",
        "    tx_message = json.dumps(transaction.to_dict(include_signature=False))\n",
        "    if isinstance(transaction, GenesisTransaction):\n",
        "        # TODO: We should probably be more careful about validating genesis transactions\n",
        "        return True\n",
        "    \n",
        "    # Verify input transactions\n",
        "    for tx in transaction.inputs:\n",
        "        if not verify_transaction(tx.transaction):\n",
        "            logging.error(\"Invalid parent transaction\")\n",
        "            return False\n",
        "    \n",
        "    # Verify a single wallet owns all the inputs\n",
        "    first_input_address = transaction.inputs[0].parent_output.recipient\n",
        "    for txin in transaction.inputs[1:]:\n",
        "        if txin.parent_output.recipient != first_input_address:\n",
        "            logging.error(\n",
        "                \"Transaction inputs belong to multiple wallets (%s and %s)\" %\n",
        "                (txin.parent_output.recipient, first_input_address)\n",
        "            )\n",
        "            return False\n",
        "    \n",
        "    if not verify_signature(first_input_address, tx_message, transaction.signature):\n",
        "        logging.error(\"Invalid transaction signature, trying to spend someone else's money ?\")\n",
        "        return False\n",
        "    \n",
        "    # Call compute_fee here to trigger an assert if output sum is great than input sum. Without this,\n",
        "    # a miner could put such an invalid transaction.\n",
        "    compute_fee(transaction.inputs, transaction.outputs)\n",
        "    \n",
        "    return True\n",
        "\n",
        "\n",
        "t1 = GenesisTransaction(alice.address)\n",
        "# This is an invalid transaction because bob is trying to spend alice's money\n",
        "# (alice was the recipient of the input - t1)\n",
        "t2 = Transaction(\n",
        "    bob,\n",
        "    [TransactionInput(t1, 0)],\n",
        "    [TransactionOutput(walter.address, 10.0)]\n",
        ")\n",
        "# This is valid, alice is spending her own money\n",
        "t3 = Transaction(\n",
        "    alice,\n",
        "    [TransactionInput(t1, 0)],\n",
        "    [TransactionOutput(walter.address, 10.0)]\n",
        ")"
      ],
      "execution_count": 0,
      "outputs": []
    },
    {
      "metadata": {
        "id": "HLP_op5lO1hU",
        "colab_type": "code",
        "colab": {}
      },
      "cell_type": "code",
      "source": [
        "assert verify_transaction(t1)"
      ],
      "execution_count": 0,
      "outputs": []
    },
    {
      "metadata": {
        "id": "ehwLrJVbO1hX",
        "colab_type": "code",
        "colab": {
          "base_uri": "https://localhost:8080/",
          "height": 34
        },
        "outputId": "84dd657f-0b87-4b5e-f9a5-3b9e0e3ca669"
      },
      "cell_type": "code",
      "source": [
        "assert not verify_transaction(t2)"
      ],
      "execution_count": 48,
      "outputs": [
        {
          "output_type": "stream",
          "text": [
            "ERROR:root:Invalid transaction signature, trying to spend someone else's money ?\n"
          ],
          "name": "stderr"
        }
      ]
    },
    {
      "metadata": {
        "id": "dn77hSNYO1hb",
        "colab_type": "code",
        "colab": {}
      },
      "cell_type": "code",
      "source": [
        "assert verify_transaction(t3)"
      ],
      "execution_count": 0,
      "outputs": []
    },
    {
      "metadata": {
        "id": "2SVX3rpnO1hh",
        "colab_type": "code",
        "colab": {}
      },
      "cell_type": "code",
      "source": [
        "BLOCK_INCENTIVE = 25 # The number of coins miners get for mining a block\n",
        "DIFFICULTY = 2\n",
        "\n",
        "\n",
        "def compute_total_fee(transactions):\n",
        "    \"\"\"Return the total fee for the set of transactions\"\"\"\n",
        "    return sum(t.fee for t in transactions)\n",
        "\n",
        "\n",
        "class Block(object):\n",
        "    def __init__(self, transactions, ancestor, miner_address, skip_verif=False):\n",
        "        \"\"\"\n",
        "        Args:\n",
        "            transactions: The list of transactions to include in the block\n",
        "            ancestor: The previous block\n",
        "            miner_address: The address of the miner's wallet. This is where the block\n",
        "                           incentive and the transactions fees will be deposited\n",
        "        \"\"\"\n",
        "        reward = compute_total_fee(transactions) + BLOCK_INCENTIVE\n",
        "        self.transactions = [GenesisTransaction(miner_address, amount=reward)] + transactions\n",
        "        self.ancestor = ancestor\n",
        "        \n",
        "        if not skip_verif:\n",
        "            assert all(map(verify_transaction, transactions))\n",
        "        \n",
        "        json_block = json.dumps(self.to_dict(include_hash=False))\n",
        "        self.nonce, _ = mine(json_block, DIFFICULTY)\n",
        "        self.hash = dumb_hash(json_block + self.nonce)\n",
        "        \n",
        "    def fee(self):\n",
        "        \"\"\"Return transaction fee for this block\"\"\"\n",
        "        return compute_total_fee(self.transactions)\n",
        "    \n",
        "    def to_dict(self, include_hash=True):\n",
        "        d = {\n",
        "            \"transactions\": list(map(Transaction.to_dict, self.transactions)),\n",
        "            \"previous_block\": self.ancestor.hash,\n",
        "        }\n",
        "        if include_hash:\n",
        "            d[\"nonce\"] = self.nonce\n",
        "            d[\"hash\"] = self.hash\n",
        "        return d\n",
        "    \n",
        "    \n",
        "class GenesisBlock(Block):\n",
        "    \"\"\"\n",
        "    The genesis block is the first block in the chain.\n",
        "    It is the only block with no ancestor\n",
        "    \"\"\"\n",
        "    def __init__(self, miner_address):\n",
        "        super(GenesisBlock, self).__init__(transactions=[], ancestor=None, miner_address=miner_address)\n",
        "\n",
        "    def to_dict(self, include_hash=True):\n",
        "        d = {\n",
        "            \"transactions\": [],\n",
        "            \"genesis_block\": True,\n",
        "        }\n",
        "        if include_hash:\n",
        "            d[\"nonce\"] = self.nonce\n",
        "            d[\"hash\"] = self.hash\n",
        "        return d"
      ],
      "execution_count": 0,
      "outputs": []
    },
    {
      "metadata": {
        "id": "dT8RgX77O1hn",
        "colab_type": "code",
        "colab": {}
      },
      "cell_type": "code",
      "source": [
        "def verify_block(block, genesis_block, used_outputs=None):\n",
        "    \"\"\"\n",
        "    Verifies that a block is valid :\n",
        "    - Verifies the hash starts with the required amount of ones\n",
        "    - Verifies that the same transaction output isn't used twice\n",
        "    - Verifies all transactions are valid\n",
        "    - Verifies the first transaction in the block is a genesis transaction with BLOCK_INCENTIVE + total_fee\n",
        "    \n",
        "    Args:\n",
        "        block: The block to validate\n",
        "        genesis_block: The genesis block (this needs to be shared by everybody. E.g. hardcoded somewhere)\n",
        "        used_outputs: list of outputs used in transactions for all blocks above this one\n",
        "    \"\"\"\n",
        "    if used_outputs is None:\n",
        "        used_outputs = set()\n",
        "    \n",
        "    # Verify hash\n",
        "    prefix = '1' * DIFFICULTY\n",
        "    if not block.hash.startswith(prefix):\n",
        "        logging.error(\"Block hash (%s) doesn't start with prefix %s\" % (block.hash, prefix))\n",
        "        return False\n",
        "    if not all(map(verify_transaction, block.transactions)):\n",
        "        return False\n",
        "    \n",
        "    # Verify that transactions in this block don't use already spent outputs\n",
        "    #\n",
        "    # Note that we could move this in verify_transaction, but this would require some passing the used_outputs\n",
        "    # around more. So we do it here for simplicity\n",
        "    for transaction in block.transactions:\n",
        "        for i in transaction.inputs:\n",
        "            if i.parent_output in used_outputs:\n",
        "                logging.error(\"Transaction uses an already spent output : %s\" % json.dumps(i.parent_output.to_dict()))\n",
        "                return False\n",
        "            used_outputs.add(i.parent_output)\n",
        "    \n",
        "    # Verify ancestors up to the genesis block\n",
        "    if not (block.hash == genesis_block.hash):\n",
        "        if not verify_block(block.ancestor, genesis_block, used_outputs):\n",
        "            logging.error(\"Failed to validate ancestor block\")\n",
        "            return False\n",
        "    \n",
        "    # Verify the first transaction is the miner's reward\n",
        "    tx0 = block.transactions[0]\n",
        "    if not isinstance(tx0, GenesisTransaction):\n",
        "        logging.error(\"Transaction 0 is not a GenesisTransaction\")\n",
        "        return False\n",
        "    if not len(tx0.outputs) == 1:\n",
        "        logging.error(\"Transactions 0 doesn't have exactly 1 output\")\n",
        "        return False\n",
        "    reward = compute_total_fee(block.transactions[1:]) + BLOCK_INCENTIVE\n",
        "    if not tx0.outputs[0].amount == reward:\n",
        "        logging.error(\"Invalid amount in transaction 0 : %d, expected %d\" % (tx0.outputs[0].amount, reward))\n",
        "        return False\n",
        "    \n",
        "    # Only the first transaction shall be a genesis\n",
        "    for i, tx in enumerate(block.transactions):\n",
        "        if i == 0:\n",
        "            if not isinstance(tx, GenesisTransaction):\n",
        "                logging.error(\"Non-genesis transaction at index 0\")\n",
        "                return False  \n",
        "        elif isinstance(tx, GenesisTransaction):\n",
        "            logging.error(\"GenesisTransaction (hash=%s) at index %d != 0\", tx.hash(), i)\n",
        "            return False\n",
        "    return True"
      ],
      "execution_count": 0,
      "outputs": []
    },
    {
      "metadata": {
        "id": "wq_8uIORO1hr",
        "colab_type": "code",
        "colab": {
          "base_uri": "https://localhost:8080/",
          "height": 68
        },
        "outputId": "f0541482-34ac-4152-cab0-72262e2b1b4a"
      },
      "cell_type": "code",
      "source": [
        "alice = Wallet()\n",
        "bob = Wallet()\n",
        "walter = Wallet()\n",
        "\n",
        "genesis_block = GenesisBlock(miner_address=alice.address)\n",
        "print(\"genesis_block : \" + genesis_block.hash + \" with fee=\" + str(genesis_block.fee()))\n",
        "\n",
        "t1 = genesis_block.transactions[0]\n",
        "t2 = Transaction(\n",
        "    alice,\n",
        "    [TransactionInput(t1, 0)],\n",
        "    [TransactionOutput(bob.address, 5.0), TransactionOutput(alice.address, 15.0), TransactionOutput(walter.address, 5.0)]\n",
        ")\n",
        "t3 = Transaction(\n",
        "    walter,\n",
        "    [TransactionInput(t2, 2)],\n",
        "    [TransactionOutput(bob.address, 5.0)])\n",
        "\n",
        "t4 = Transaction(\n",
        "    bob,\n",
        "    [TransactionInput(t2, 0), TransactionInput(t3, 0)],\n",
        "    [TransactionOutput(walter.address, 8.0), TransactionOutput(bob.address, 1.0)]\n",
        ")\n",
        "\n",
        "block1 = Block([t2], ancestor=genesis_block, miner_address=walter.address)\n",
        "print(\"block1        : \" + block1.hash + \" with fee=\" + str(block1.fee()))\n",
        "\n",
        "block2 = Block([t3, t4], ancestor=block1, miner_address=walter.address)\n",
        "print(\"block2        : \" + block2.hash + \" with fee=\" + str(block2.fee()))"
      ],
      "execution_count": 52,
      "outputs": [
        {
          "output_type": "stream",
          "text": [
            "genesis_block : 1162dce8ffec3acf13ce61109f121922eee8cceeea4784aa9d90dc6ec0e0fa92 with fee=0\n",
            "block1        : 118171c5c681b26715cb11c0582be65a4ec2275ec094cab7c2227c6426cd3c71 with fee=0.0\n",
            "block2        : 11a3c751925c6817aac2dfc304a68e13ddc4ef465d9be63dbb059cf13ba1387f with fee=1.0\n"
          ],
          "name": "stdout"
        }
      ]
    },
    {
      "metadata": {
        "id": "RRsX6vdAO1hw",
        "colab_type": "code",
        "colab": {
          "base_uri": "https://localhost:8080/",
          "height": 34
        },
        "outputId": "e2077dbb-ba48-4358-9920-cf66e85249a9"
      },
      "cell_type": "code",
      "source": [
        "verify_block(block1, genesis_block)\n",
        "verify_block(block2, genesis_block)"
      ],
      "execution_count": 53,
      "outputs": [
        {
          "output_type": "execute_result",
          "data": {
            "text/plain": [
              "True"
            ]
          },
          "metadata": {
            "tags": []
          },
          "execution_count": 53
        }
      ]
    },
    {
      "metadata": {
        "id": "m5bs80aCO1h1",
        "colab_type": "code",
        "colab": {
          "base_uri": "https://localhost:8080/",
          "height": 68
        },
        "outputId": "95d5d121-55d9-466e-9670-bd4a456768a3"
      },
      "cell_type": "code",
      "source": [
        "def collect_transactions(block, genesis_block):\n",
        "    \"\"\"Recursively collect transactions in `block` and all of its ancestors\"\"\"\n",
        "    # Important : COPY block.transactions\n",
        "    transactions = [] + block.transactions\n",
        "    if block.hash != genesis_block.hash:\n",
        "        transactions += collect_transactions(block.ancestor, genesis_block)\n",
        "    return transactions\n",
        "\n",
        "transactions = collect_transactions(block2, genesis_block)\n",
        "\n",
        "# Alice mined 25 (from the genesis block) and gave 5 to bob and 5 to walter\n",
        "print(\"Alice  has %.02f dumbcoins\" % compute_balance(alice.address, transactions))\n",
        "# Bob received 5 from alice and 5 from walter, but then back 8 to walter with a transaction fee of 1\n",
        "print(\"Bob    has %.02f dumbcoins\" % compute_balance(bob.address, transactions))\n",
        "# Walter mined 2 blocks (2 * 25), received 8 from bob and go a transaction fee of 1 on block2\n",
        "print(\"Walter has %.02f dumbcoins\" % compute_balance(walter.address, transactions))"
      ],
      "execution_count": 54,
      "outputs": [
        {
          "output_type": "stream",
          "text": [
            "Alice  has 15.00 dumbcoins\n",
            "Bob    has 1.00 dumbcoins\n",
            "Walter has 59.00 dumbcoins\n"
          ],
          "name": "stdout"
        }
      ]
    },
    {
      "metadata": {
        "id": "Yo0et5MgO1h8",
        "colab_type": "code",
        "colab": {
          "base_uri": "https://localhost:8080/",
          "height": 34
        },
        "outputId": "7872a13b-494d-4050-9524-bc53777b7dfa"
      },
      "cell_type": "code",
      "source": [
        "tx = Transaction(\n",
        "    walter,\n",
        "    [TransactionInput(t4, 1)],\n",
        "    [TransactionOutput(walter.address, 1.0)],\n",
        ")\n",
        "\n",
        "# Note that we have to use skip_verif=True to not trigger the assert in Block's constructor\n",
        "block = Block([tx], ancestor=block2, miner_address=walter.address, skip_verif=True)\n",
        "assert not verify_block(block, genesis_block)"
      ],
      "execution_count": 55,
      "outputs": [
        {
          "output_type": "stream",
          "text": [
            "ERROR:root:Invalid transaction signature, trying to spend someone else's money ?\n"
          ],
          "name": "stderr"
        }
      ]
    },
    {
      "metadata": {
        "id": "FxEYaa1yO1h_",
        "colab_type": "code",
        "colab": {
          "base_uri": "https://localhost:8080/",
          "height": 34
        },
        "outputId": "63280ff6-d6fc-4e93-871d-1da54994d371"
      },
      "cell_type": "code",
      "source": [
        "# This is a transaction signed by bob\n",
        "tx = Transaction(\n",
        "    bob,\n",
        "    [TransactionInput(t2, 0), TransactionInput(t3, 0)],\n",
        "    [TransactionOutput(walter.address, 8.0), TransactionOutput(bob.address, 1.0)]\n",
        ")\n",
        "# And modified by the miner\n",
        "tx.outputs[0].amount += 4\n",
        "block = Block([t3, tx], ancestor=block1, miner_address=walter.address, skip_verif=True)\n",
        "assert not verify_block(block, genesis_block)"
      ],
      "execution_count": 56,
      "outputs": [
        {
          "output_type": "stream",
          "text": [
            "ERROR:root:Invalid transaction signature, trying to spend someone else's money ?\n"
          ],
          "name": "stderr"
        }
      ]
    },
    {
      "metadata": {
        "id": "xPhh2QkBO1iD",
        "colab_type": "code",
        "colab": {
          "base_uri": "https://localhost:8080/",
          "height": 54
        },
        "outputId": "3fcdf9fd-672d-41ae-9c20-b497ee87d803"
      },
      "cell_type": "code",
      "source": [
        "block = Block([t3, t3, t4], ancestor=block1, miner_address=bob.address, skip_verif=True)\n",
        "assert not verify_block(block, genesis_block)"
      ],
      "execution_count": 57,
      "outputs": [
        {
          "output_type": "stream",
          "text": [
            "ERROR:root:Transaction uses an already spent output : {\"recipient_address\": \"30819f300d06092a864886f70d010101050003818d0030818902818100d172f8a86d97db9eb94e5df845ce5e2ebab02ed7f9d6cba61c9ce642e63fea89aa9fdd5a1e116675197f305bd1dadc24b7a86299ee0a0060d02b70b80b3fc08e641d43b0c8216dcbb3a0bdc5b413ea4387890298d2e29e24e3dff5718d1254898d0634f7203d9245a2dd499f3e58f96d85eb9b410aff0380e79270330f37ed6d0203010001\", \"amount\": 5.0}\n"
          ],
          "name": "stderr"
        }
      ]
    },
    {
      "metadata": {
        "id": "SqSJToOLO1iJ",
        "colab_type": "code",
        "colab": {}
      },
      "cell_type": "code",
      "source": [
        "# Let's start again with the same example transactions and blocks as above\n",
        "alice = Wallet()\n",
        "bob = Wallet()\n",
        "walter = Wallet()\n",
        "\n",
        "genesis_block = GenesisBlock(miner_address=alice.address)\n",
        "\n",
        "t1 = genesis_block.transactions[0]\n",
        "t2 = Transaction(\n",
        "    alice,\n",
        "    [TransactionInput(t1, 0)],\n",
        "    [TransactionOutput(bob.address, 5.0), TransactionOutput(alice.address, 15.0), TransactionOutput(walter.address, 5.0)]\n",
        ")\n",
        "t3 = Transaction(\n",
        "    walter,\n",
        "    [TransactionInput(t2, 2)],\n",
        "    [TransactionOutput(bob.address, 5.0)])\n",
        "\n",
        "t4 = Transaction(\n",
        "    bob,\n",
        "    [TransactionInput(t2, 0), TransactionInput(t3, 0)],\n",
        "    [TransactionOutput(walter.address, 8.0), TransactionOutput(bob.address, 1.0)]\n",
        ")\n",
        "\n",
        "block1 = Block([t2], ancestor=genesis_block, miner_address=walter.address)\n",
        "block2 = Block([t3, t4], ancestor=block1, miner_address=walter.address)"
      ],
      "execution_count": 0,
      "outputs": []
    },
    {
      "metadata": {
        "id": "42YgW21_O1iT",
        "colab_type": "code",
        "colab": {
          "base_uri": "https://localhost:8080/",
          "height": 34
        },
        "outputId": "2c914873-62aa-444f-ae98-9726614fd92b"
      },
      "cell_type": "code",
      "source": [
        "t4_malicious = Transaction(\n",
        "    bob,\n",
        "    [TransactionInput(t2, 0), TransactionInput(t3, 0)],\n",
        "    [TransactionOutput(bob.address, 8.0), TransactionOutput(bob.address, 1.0)]\n",
        ")\n",
        "block2_malicious = Block([t3, t4_malicious], ancestor=block1, miner_address=bob.address)\n",
        "print(verify_block(block2_malicious, genesis_block))"
      ],
      "execution_count": 59,
      "outputs": [
        {
          "output_type": "stream",
          "text": [
            "True\n"
          ],
          "name": "stdout"
        }
      ]
    },
    {
      "metadata": {
        "id": "4FuwO2ubO1ie",
        "colab_type": "code",
        "colab": {}
      },
      "cell_type": "code",
      "source": [
        "t6 = Transaction(\n",
        "    alice,\n",
        "    [TransactionInput(t2, 1)],\n",
        "    [TransactionOutput(walter.address, 5.0), TransactionOutput(alice.address, 10.0)]\n",
        ")\n",
        "\n",
        "block3_malicious = Block([t6], ancestor=block2_malicious, miner_address=bob.address)"
      ],
      "execution_count": 0,
      "outputs": []
    },
    {
      "metadata": {
        "id": "SLbCLwliO1ih",
        "colab_type": "code",
        "colab": {
          "base_uri": "https://localhost:8080/",
          "height": 51
        },
        "outputId": "4fc33e87-04b7-4240-9521-95f565190d74"
      },
      "cell_type": "code",
      "source": [
        "def chain_length(block):\n",
        "    if block.ancestor is None:\n",
        "        return 1\n",
        "    else:\n",
        "        return 1 + chain_length(block.ancestor)\n",
        "\n",
        "print(\"Chain length for block2           : %d\" % chain_length(block2))\n",
        "print(\"Chain length for block3_malicious : %d \" % chain_length(block3_malicious))"
      ],
      "execution_count": 61,
      "outputs": [
        {
          "output_type": "stream",
          "text": [
            "Chain length for block2           : 3\n",
            "Chain length for block3_malicious : 4 \n"
          ],
          "name": "stdout"
        }
      ]
    }
  ]
}